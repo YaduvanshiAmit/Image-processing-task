{
 "cells": [
  {
   "cell_type": "code",
   "execution_count": 3,
   "id": "071e1dc9",
   "metadata": {},
   "outputs": [
    {
     "name": "stderr",
     "output_type": "stream",
     "text": [
      "ERROR: Could not find a version that satisfies the requirement opencv2\n",
      "ERROR: No matching distribution found for opencv2\n"
     ]
    }
   ],
   "source": [
    "!pip install opencv2"
   ]
  },
  {
   "cell_type": "code",
   "execution_count": null,
   "id": "fdfb33ae",
   "metadata": {},
   "outputs": [],
   "source": []
  }
 ],
 "metadata": {
  "kernelspec": {
   "display_name": "Python 3",
   "language": "python",
   "name": "python3"
  },
  "language_info": {
   "codemirror_mode": {
    "name": "ipython",
    "version": 3
   },
   "file_extension": ".py",
   "mimetype": "text/x-python",
   "name": "python",
   "nbconvert_exporter": "python",
   "pygments_lexer": "ipython3",
   "version": "3.8.8"
  }
 },
 "nbformat": 4,
 "nbformat_minor": 5
}
